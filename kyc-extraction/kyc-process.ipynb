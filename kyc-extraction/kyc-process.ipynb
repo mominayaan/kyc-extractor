{
 "cells": [
  {
   "cell_type": "code",
   "execution_count": 101,
   "metadata": {},
   "outputs": [],
   "source": [
    "from dotenv import load_dotenv\n",
    "import os\n",
    "import openai\n",
    "from pydantic import BaseModel, Field\n",
    "import base64\n",
    "import requests\n",
    "\n",
    "from typing import Literal\n",
    "\n",
    "load_dotenv()\n",
    "\n",
    "\n",
    "openai_api_key = os.getenv(\"OPENAI_API_KEY\")\n",
    "openai_client=openai.OpenAI(api_key=openai_api_key)"
   ]
  },
  {
   "cell_type": "code",
   "execution_count": 92,
   "metadata": {},
   "outputs": [],
   "source": [
    "image_links = [\"https://fireworks-take-home.s3.us-east-1.amazonaws.com/License+1.png\",\n",
    "               \"https://fireworks-take-home.s3.us-east-1.amazonaws.com/License-2.jpg\",\n",
    "               \"https://fireworks-take-home.s3.us-east-1.amazonaws.com/License-3.jpeg\",\n",
    "               \"https://fireworks-take-home.s3.us-east-1.amazonaws.com/passport-1.jpeg\",\n",
    "               \"https://fireworks-take-home.s3.us-east-1.amazonaws.com/passport-2.jpg\"]"
   ]
  },
  {
   "cell_type": "code",
   "execution_count": 88,
   "metadata": {},
   "outputs": [],
   "source": [
    "\n"
   ]
  },
  {
   "cell_type": "code",
   "execution_count": 104,
   "metadata": {},
   "outputs": [
    {
     "name": "stdout",
     "output_type": "stream",
     "text": [
      " {\n",
      "\"document_type\": \"passport\",\n",
      "\"image_orientation\": \"up\"\n",
      "}\n",
      "\n"
     ]
    }
   ],
   "source": [
    "api_key = os.getenv(\"FIREWORKS_API_KEY\")\n",
    "client = openai.OpenAI(api_key=api_key, base_url=\"https://api.fireworks.ai/inference/v1\")\n",
    "\n",
    "def encode_image(image_url):\n",
    "  response = requests.get(image_url)\n",
    "  return base64.b64encode(response.content).decode('utf-8')\n",
    "\n",
    "class Result(BaseModel):\n",
    "    document_type: Literal[\"passport\", \"drivers license\"] = Field(description=\"The type of the document, available options are passport or drivers license\")\n",
    "    image_orientation: Literal[\"up\", \"right\", \"left\", \"down\"] = Field(description=\"The orientation of the image in regards to text on the document, up, right, left or down\")\n",
    "\n",
    "image_base64 = encode_image(image_links[3])\n",
    "\n",
    "response = client.chat.completions.create(\n",
    "  model = \"accounts/fireworks/models/phi-3-vision-128k-instruct\",\n",
    "  response_format={\"type\": \"json_object\", \"schema\": Result.model_json_schema()},\n",
    "  messages = [{\n",
    "    \"role\": \"user\",\n",
    "    \"content\": [{\n",
    "      \"type\": \"text\",\n",
    "      \"text\": \"Can you describe what type of a document is this? and also its orientation. If image is oriented correctly the value is up, if the text is rotated 90 degree clockwise the orientation is right, if text is upside down the orientation is down and lastly if the image is oriented 90degrees counter clockwise, the orientation is left\",\n",
    "    }, {\n",
    "      \"type\": \"image_url\",\n",
    "      \"image_url\": {\n",
    "        \"url\": f\"data:image/jpeg;base64,{image_base64}\"\n",
    "      },\n",
    "    }, ],\n",
    "  }],\n",
    ")\n",
    "print(response.choices[0].message.content)"
   ]
  }
 ],
 "metadata": {
  "kernelspec": {
   "display_name": "kyc-extraction",
   "language": "python",
   "name": "python3"
  },
  "language_info": {
   "codemirror_mode": {
    "name": "ipython",
    "version": 3
   },
   "file_extension": ".py",
   "mimetype": "text/x-python",
   "name": "python",
   "nbconvert_exporter": "python",
   "pygments_lexer": "ipython3",
   "version": "3.13.1"
  }
 },
 "nbformat": 4,
 "nbformat_minor": 2
}
